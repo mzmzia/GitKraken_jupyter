{
 "cells": [
  {
   "cell_type": "code",
   "execution_count": 102,
   "id": "788d6313",
   "metadata": {},
   "outputs": [
    {
     "data": {
      "text/plain": [
       "Year    2021.0\n",
       "Mo         9.0\n",
       "Name: 0, dtype: float64"
      ]
     },
     "execution_count": 102,
     "metadata": {},
     "output_type": "execute_result"
    }
   ],
   "source": [
    "Sig_Eqs\n",
    "total\n",
    "de_total\n",
    "df = pd.DataFrame(detotal,columns = ['Year','Mo','Dy','Hr'])\n",
    "df.loc[0,['Year','Mo']]"
   ]
  },
  {
   "cell_type": "code",
   "execution_count": 107,
   "id": "0be8cfc5",
   "metadata": {},
   "outputs": [
    {
     "data": {
      "image/png": "[encoded data removed]",
      "text/plain": [
       "<Figure size 432x288 with 1 Axes>"
      ]
     },
     "metadata": {
      "needs_background": "light"
     },
     "output_type": "display_data"
    }
   ],
   "source": [
    "# PS2_1\n",
    "## 1.1\n",
    "import matplotlib.pyplot as plt\n",
    "import pandas as pd\n",
    "Sig_Eqs = pd.read_csv('earthquakes-2021-10-21_12-22-57_+0800.tsv', sep='\\t')\n",
    "total_number_of_deaths = Sig_Eqs['Deaths'].sum()\n",
    "the_top_ten_countries = Sig_Eqs.sort_values(by='Deaths',ascending=False).head(10)\n",
    "\n",
    "## 1.2\n",
    "\n",
    "group_mag = Sig_Eqs[Sig_Eqs['Mag']>6.0].groupby(['Year']).count()\n",
    "plt.ylabel('total_mag>6')\n",
    "group_mag['Mag'].plot()\n",
    "\n",
    "## 1.3\n",
    "\n",
    "def CountEq_LargestEq(country):\n",
    "    total = Sig_Eqs[Sig_Eqs['Country']==country]\n",
    "    num = total[total['Mag']>0].count()['Year']\n",
    "    de_total = total.sort_values(by='Year',ascending = False).head()\n",
    "    de_total = detotal.reset_index(drop = True)\n",
    "    date = de_total.loc[0,['Year','Mo','Dy','Hr']]\n",
    "    return(num,date)"
   ]
  },
  {
   "cell_type": "code",
   "execution_count": 152,
   "id": "3c664f39",
   "metadata": {},
   "outputs": [
    {
     "name": "stderr",
     "output_type": "stream",
     "text": [
      "E:\\anaconda\\envs\\ese\\lib\\site-packages\\IPython\\core\\interactiveshell.py:3165: DtypeWarning: Columns (4,8,9,12,15,21,22,24,26,31,33,34) have mixed types.Specify dtype option on import or set low_memory=False.\n",
      "  has_raised = await self.run_ast_nodes(code_ast.body, cell_name,\n"
     ]
    },
    {
     "data": {
      "text/plain": [
       "0         0020\n",
       "1         0010\n",
       "2         0000\n",
       "3         0010\n",
       "4         0040\n",
       "          ... \n",
       "111979    0030\n",
       "111980    0040\n",
       "111981    0030\n",
       "111982    0030\n",
       "111983    0020\n",
       "Name: 3, Length: 111984, dtype: object"
      ]
     },
     "execution_count": 152,
     "metadata": {},
     "output_type": "execute_result"
    }
   ],
   "source": [
    "# PS2_2\n",
    "## 2\n",
    "Data = pd.read_csv(\"2281305.csv\")\n",
    "temp = Data.loc[:,['DATE','WND']]\n",
    "temp = temp['WND'].str.split(',',expand=True)\n",
    "# temp = pd.DataFrame(temp,columns = ['direction angle','direction quality code','type code','speed rate','speed quality code'])\n",
    "temp['direction angle']=[]"
   ]
  },
  {
   "cell_type": "code",
   "execution_count": 151,
   "id": "d66ae3b4",
   "metadata": {},
   "outputs": [
    {
     "data": {
      "text/html": [
       "<div>\n",
       "<style scoped>\n",
       "    .dataframe tbody tr th:only-of-type {\n",
       "        vertical-align: middle;\n",
       "    }\n",
       "\n",
       "    .dataframe tbody tr th {\n",
       "        vertical-align: top;\n",
       "    }\n",
       "\n",
       "    .dataframe thead th {\n",
       "        text-align: right;\n",
       "    }\n",
       "</style>\n",
       "<table border=\"1\" class=\"dataframe\">\n",
       "  <thead>\n",
       "    <tr style=\"text-align: right;\">\n",
       "      <th></th>\n",
       "      <th>0</th>\n",
       "      <th>1</th>\n",
       "      <th>2</th>\n",
       "      <th>3</th>\n",
       "      <th>4</th>\n",
       "    </tr>\n",
       "  </thead>\n",
       "  <tbody>\n",
       "    <tr>\n",
       "      <th>0</th>\n",
       "      <td>040</td>\n",
       "      <td>1</td>\n",
       "      <td>N</td>\n",
       "      <td>0020</td>\n",
       "      <td>1</td>\n",
       "    </tr>\n",
       "    <tr>\n",
       "      <th>1</th>\n",
       "      <td>999</td>\n",
       "      <td>9</td>\n",
       "      <td>V</td>\n",
       "      <td>0010</td>\n",
       "      <td>1</td>\n",
       "    </tr>\n",
       "    <tr>\n",
       "      <th>2</th>\n",
       "      <td>999</td>\n",
       "      <td>9</td>\n",
       "      <td>C</td>\n",
       "      <td>0000</td>\n",
       "      <td>1</td>\n",
       "    </tr>\n",
       "    <tr>\n",
       "      <th>3</th>\n",
       "      <td>140</td>\n",
       "      <td>1</td>\n",
       "      <td>N</td>\n",
       "      <td>0010</td>\n",
       "      <td>1</td>\n",
       "    </tr>\n",
       "    <tr>\n",
       "      <th>4</th>\n",
       "      <td>300</td>\n",
       "      <td>1</td>\n",
       "      <td>N</td>\n",
       "      <td>0040</td>\n",
       "      <td>1</td>\n",
       "    </tr>\n",
       "    <tr>\n",
       "      <th>...</th>\n",
       "      <td>...</td>\n",
       "      <td>...</td>\n",
       "      <td>...</td>\n",
       "      <td>...</td>\n",
       "      <td>...</td>\n",
       "    </tr>\n",
       "    <tr>\n",
       "      <th>111979</th>\n",
       "      <td>170</td>\n",
       "      <td>1</td>\n",
       "      <td>N</td>\n",
       "      <td>0030</td>\n",
       "      <td>1</td>\n",
       "    </tr>\n",
       "    <tr>\n",
       "      <th>111980</th>\n",
       "      <td>180</td>\n",
       "      <td>1</td>\n",
       "      <td>N</td>\n",
       "      <td>0040</td>\n",
       "      <td>1</td>\n",
       "    </tr>\n",
       "    <tr>\n",
       "      <th>111981</th>\n",
       "      <td>220</td>\n",
       "      <td>1</td>\n",
       "      <td>V</td>\n",
       "      <td>0030</td>\n",
       "      <td>1</td>\n",
       "    </tr>\n",
       "    <tr>\n",
       "      <th>111982</th>\n",
       "      <td>260</td>\n",
       "      <td>1</td>\n",
       "      <td>N</td>\n",
       "      <td>0030</td>\n",
       "      <td>1</td>\n",
       "    </tr>\n",
       "    <tr>\n",
       "      <th>111983</th>\n",
       "      <td>310</td>\n",
       "      <td>1</td>\n",
       "      <td>V</td>\n",
       "      <td>0020</td>\n",
       "      <td>1</td>\n",
       "    </tr>\n",
       "  </tbody>\n",
       "</table>\n",
       "<p>111984 rows × 5 columns</p>\n",
       "</div>"
      ],
      "text/plain": [
       "          0  1  2     3  4\n",
       "0       040  1  N  0020  1\n",
       "1       999  9  V  0010  1\n",
       "2       999  9  C  0000  1\n",
       "3       140  1  N  0010  1\n",
       "4       300  1  N  0040  1\n",
       "...     ... .. ..   ... ..\n",
       "111979  170  1  N  0030  1\n",
       "111980  180  1  N  0040  1\n",
       "111981  220  1  V  0030  1\n",
       "111982  260  1  N  0030  1\n",
       "111983  310  1  V  0020  1\n",
       "\n",
       "[111984 rows x 5 columns]"
      ]
     },
     "execution_count": 151,
     "metadata": {},
     "output_type": "execute_result"
    }
   ],
   "source": [
    "temp"
   ]
  },
  {
   "cell_type": "code",
   "execution_count": null,
   "id": "1e8efc4d",
   "metadata": {},
   "outputs": [],
   "source": []
  }
 ],
 "metadata": {
  "kernelspec": {
   "display_name": "Python 3",
   "language": "python",
   "name": "python3"
  },
  "language_info": {
   "codemirror_mode": {
    "name": "ipython",
    "version": 3
   },
   "file_extension": ".py",
   "mimetype": "text/x-python",
   "name": "python",
   "nbconvert_exporter": "python",
   "pygments_lexer": "ipython3",
   "version": "3.8.8"
  }
 },
 "nbformat": 4,
 "nbformat_minor": 5
}
